{
 "cells": [
  {
   "cell_type": "markdown",
   "id": "c2ca1dd3",
   "metadata": {},
   "source": [
    "# DataScraping\n",
    "\n",
    "In this notebook I scrape the necessary data for these studies from onequestionshootout.xyz"
   ]
  },
  {
   "cell_type": "code",
   "execution_count": 1,
   "id": "98713588",
   "metadata": {},
   "outputs": [],
   "source": [
    "import pandas as pd\n",
    "import numpy as np\n",
    "import matplotlib.pyplot as plt\n",
    "import time"
   ]
  },
  {
   "cell_type": "code",
   "execution_count": 2,
   "id": "05964e3b",
   "metadata": {},
   "outputs": [],
   "source": [
    "# Delay used to be kind to the server owner and keep the requests at a human level\n",
    "TIME_DELAY = 20"
   ]
  },
  {
   "cell_type": "code",
   "execution_count": 3,
   "id": "98b6b92f",
   "metadata": {},
   "outputs": [],
   "source": [
    "def scrape_episodes(series_limit = 15):\n",
    "    \"\"\"\n",
    "    Will scrape the html table for series <SERIES> from http://onequestionshootout.xyz/episodes/series_<SERIES>.htm \n",
    "    Function iterates from 1,2,...,series_limit and stacks each dataframe\n",
    "    Returns the stacked dataframe\n",
    "    \"\"\"\n",
    "\n",
    "    df_list = []\n",
    "    \n",
    "    for series in range(1,series_limit+1):\n",
    "        \n",
    "        print(\"Scraping series: {}\".format(series))\n",
    "        if series > 1:\n",
    "            time.sleep(TIME_DELAY)\n",
    "                        \n",
    "        data_url = \"http://onequestionshootout.xyz/episodes/series_{}.htm\".format(series)\n",
    "        try:\n",
    "            tables = pd.read_html(data_url)\n",
    "        except URLError:\n",
    "            break\n",
    "        \n",
    "        df_series = tables[1]\n",
    "        df_series[\"Series\"] = series\n",
    "        \n",
    "        df_list.append(df_series)\n",
    "        \n",
    "    df_episodes = pd.concat(df_list)\n",
    "    print(\"\\nTotal Episodes Scraped: {}\".format(len(df_episodes)))\n",
    "    return df_episodes"
   ]
  },
  {
   "cell_type": "code",
   "execution_count": 4,
   "id": "68cfd2c8",
   "metadata": {},
   "outputs": [
    {
     "name": "stdout",
     "output_type": "stream",
     "text": [
      "Scraping series: 1\n",
      "Scraping series: 2\n",
      "Scraping series: 3\n",
      "Scraping series: 4\n",
      "Scraping series: 5\n",
      "Scraping series: 6\n",
      "Scraping series: 7\n",
      "Scraping series: 8\n",
      "Scraping series: 9\n",
      "Scraping series: 10\n",
      "Scraping series: 11\n",
      "Scraping series: 12\n",
      "Scraping series: 13\n",
      "Scraping series: 14\n",
      "Scraping series: 15\n",
      "\n",
      "Total Episodes Scraped: 1883\n"
     ]
    }
   ],
   "source": [
    "df_episodes = scrape_episodes(15)"
   ]
  },
  {
   "cell_type": "code",
   "execution_count": 5,
   "id": "5cd40081",
   "metadata": {},
   "outputs": [],
   "source": [
    "df_episodes.to_csv(\"../data/all_episodes.csv\",index=False)"
   ]
  },
  {
   "cell_type": "code",
   "execution_count": 6,
   "id": "0d0fa919",
   "metadata": {},
   "outputs": [],
   "source": [
    "def scrape_players(series_limit = 15):\n",
    "    \"\"\"\n",
    "    Will scrape the html table for players <SERIES> from http://onequestionshootout.xyz/players/series_<SERIES>.htm \n",
    "    Function iterates from 1,2,...,series_limit and stacks each dataframe\n",
    "    Returns the stacked dataframe\n",
    "    \"\"\"\n",
    "\n",
    "    df_list = []\n",
    "    \n",
    "    for series in range(1,series_limit+1):\n",
    "        \n",
    "        print(\"Scraping series: {}\".format(series))\n",
    "        if series > 1:\n",
    "            time.sleep(TIME_DELAY)\n",
    "                        \n",
    "        data_url = \"http://onequestionshootout.xyz/players/series_{}.htm\".format(series)\n",
    "        try:\n",
    "            tables = pd.read_html(data_url)\n",
    "        except URLError:\n",
    "            break\n",
    "        \n",
    "        df_series = tables[1]\n",
    "        df_series[\"Series\"] = series\n",
    "        \n",
    "        df_list.append(df_series)\n",
    "        \n",
    "    df_players = pd.concat(df_list)\n",
    "    print(\"\\nTotal Players Scraped: {}\".format(len(df_players)))\n",
    "    return df_players"
   ]
  },
  {
   "cell_type": "code",
   "execution_count": 7,
   "id": "a7ef9fc8",
   "metadata": {},
   "outputs": [
    {
     "name": "stdout",
     "output_type": "stream",
     "text": [
      "Scraping series: 1\n",
      "Scraping series: 2\n",
      "Scraping series: 3\n",
      "Scraping series: 4\n",
      "Scraping series: 5\n",
      "Scraping series: 6\n",
      "Scraping series: 7\n",
      "Scraping series: 8\n",
      "Scraping series: 9\n",
      "Scraping series: 10\n",
      "Scraping series: 11\n",
      "Scraping series: 12\n",
      "Scraping series: 13\n",
      "Scraping series: 14\n",
      "Scraping series: 15\n",
      "\n",
      "Total Players Scraped: 7532\n"
     ]
    }
   ],
   "source": [
    "df_players = scrape_players(15)"
   ]
  },
  {
   "cell_type": "code",
   "execution_count": 8,
   "id": "064cf068",
   "metadata": {},
   "outputs": [],
   "source": [
    "df_players.to_csv(\"../data/all_players.csv\",index=False)"
   ]
  }
 ],
 "metadata": {
  "kernelspec": {
   "display_name": "Python 3 (ipykernel)",
   "language": "python",
   "name": "python3"
  },
  "language_info": {
   "codemirror_mode": {
    "name": "ipython",
    "version": 3
   },
   "file_extension": ".py",
   "mimetype": "text/x-python",
   "name": "python",
   "nbconvert_exporter": "python",
   "pygments_lexer": "ipython3",
   "version": "3.9.5"
  }
 },
 "nbformat": 4,
 "nbformat_minor": 5
}
